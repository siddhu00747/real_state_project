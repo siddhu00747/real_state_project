{
 "cells": [
  {
   "cell_type": "code",
   "execution_count": 1,
   "id": "a0228f69-42aa-4cb1-a06c-b35c0f677911",
   "metadata": {},
   "outputs": [],
   "source": [
    "from joblib import dump, load\n",
    "model=load('dragon.joblib')"
   ]
  },
  {
   "cell_type": "code",
   "execution_count": 7,
   "id": "e5a61b9e-808c-4f06-b682-71dc92d4c40d",
   "metadata": {},
   "outputs": [
    {
     "data": {
      "text/plain": [
       "array([22.242])"
      ]
     },
     "execution_count": 7,
     "metadata": {},
     "output_type": "execute_result"
    }
   ],
   "source": [
    "import numpy as np\n",
    "input=np.array([-0.43942006,  3.12628155, -1.12165014, -0.27288841, -1.42262747,\n",
    "       -0.25083125, -1.31238772,  2.61111401, -1.0016859 , -0.5778192 ,\n",
    "       -0.97491834,  0.41164221, -0.86091034])\n",
    "model.predict([input])"
   ]
  },
  {
   "cell_type": "code",
   "execution_count": null,
   "id": "a3ec4b38-7d66-4f96-a066-c98961b2493f",
   "metadata": {},
   "outputs": [],
   "source": []
  }
 ],
 "metadata": {
  "kernelspec": {
   "display_name": "Python 3 (ipykernel)",
   "language": "python",
   "name": "python3"
  },
  "language_info": {
   "codemirror_mode": {
    "name": "ipython",
    "version": 3
   },
   "file_extension": ".py",
   "mimetype": "text/x-python",
   "name": "python",
   "nbconvert_exporter": "python",
   "pygments_lexer": "ipython3",
   "version": "3.10.11"
  }
 },
 "nbformat": 4,
 "nbformat_minor": 5
}
